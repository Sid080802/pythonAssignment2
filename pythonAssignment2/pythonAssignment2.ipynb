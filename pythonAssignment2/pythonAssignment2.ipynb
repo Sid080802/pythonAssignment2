{
 "cells": [
  {
   "cell_type": "markdown",
   "id": "6048f11b",
   "metadata": {},
   "source": [
    "### 1. Write a Python program to convert kilometers to miles"
   ]
  },
  {
   "cell_type": "code",
   "execution_count": 3,
   "id": "a90ede10",
   "metadata": {},
   "outputs": [
    {
     "name": "stdout",
     "output_type": "stream",
     "text": [
      "Enter number of kilometers: 1\n",
      "1.0 kilometers =  0.6215040397762586 miles\n"
     ]
    }
   ],
   "source": [
    "km = float(input(\"Enter number of kilometers: \"))\n",
    "\n",
    "miles = km / 1.609\n",
    "print(km,\"kilometers = \",miles,\"miles\")"
   ]
  },
  {
   "cell_type": "markdown",
   "id": "9dadb61b",
   "metadata": {},
   "source": [
    "### 2. Write a Python program to convert Celsius to Fahrenheit"
   ]
  },
  {
   "cell_type": "code",
   "execution_count": 4,
   "id": "619d16fa",
   "metadata": {},
   "outputs": [
    {
     "name": "stdout",
     "output_type": "stream",
     "text": [
      "Enter temperature in Celsius: 1\n",
      "1.0 celsius =  33.8 fahrenheit\n"
     ]
    }
   ],
   "source": [
    "celsius = float(input(\"Enter temperature in Celsius: \"))\n",
    "\n",
    "fahrenheit = celsius * (9/5) + 32\n",
    "print(celsius,\"celsius = \",fahrenheit,\"fahrenheit\")"
   ]
  },
  {
   "cell_type": "markdown",
   "id": "bdbeea4e",
   "metadata": {},
   "source": [
    "### 3. Write a Python program to display calendar"
   ]
  },
  {
   "cell_type": "code",
   "execution_count": 21,
   "id": "a999216c",
   "metadata": {},
   "outputs": [
    {
     "name": "stdout",
     "output_type": "stream",
     "text": [
      "Enter Year: 2024\n",
      "Enter month (1-12): 8\n",
      "    August 2024\n",
      "Mo Tu We Th Fr Sa Su\n",
      "          1  2  3  4\n",
      " 5  6  7  8  9 10 11\n",
      "12 13 14 15 16 17 18\n",
      "19 20 21 22 23 24 25\n",
      "26 27 28 29 30 31\n",
      "\n"
     ]
    }
   ],
   "source": [
    "import calendar\n",
    "\n",
    "def display_calendar(year, month):\n",
    "    print(calendar.month(year, month))\n",
    "    \n",
    "year = int(input(\"Enter Year: \"))\n",
    "month = int(input(\"Enter month (1-12): \"))\n",
    "display_calendar(year, month)"
   ]
  },
  {
   "cell_type": "markdown",
   "id": "ac2bac2c",
   "metadata": {},
   "source": [
    "### 4. Write a Python program to swap two variables without temp variable"
   ]
  },
  {
   "cell_type": "code",
   "execution_count": 13,
   "id": "f9416754",
   "metadata": {},
   "outputs": [
    {
     "name": "stdout",
     "output_type": "stream",
     "text": [
      "20\n",
      "10\n"
     ]
    }
   ],
   "source": [
    "a=10\n",
    "b=20\n",
    "\n",
    "# a=a+b\n",
    "# b=a-b\n",
    "# a=a-b\n",
    "\n",
    "a,b = b,a  #tuple unpacking\n",
    "\n",
    "# a=a^b\n",
    "# b=a^b\n",
    "# a=a^b\n",
    "\n",
    "print(a)\n",
    "print(b)"
   ]
  },
  {
   "cell_type": "markdown",
   "id": "752f50ca",
   "metadata": {},
   "source": [
    "### 5. Write * pattern program."
   ]
  },
  {
   "cell_type": "code",
   "execution_count": 20,
   "id": "f584ab39",
   "metadata": {},
   "outputs": [
    {
     "name": "stdout",
     "output_type": "stream",
     "text": [
      "enter number of rows: 5\n",
      "*\n",
      "**\n",
      "***\n",
      "****\n",
      "*****\n"
     ]
    }
   ],
   "source": [
    "n = int(input(\"enter number of rows: \"))\n",
    "for i in range(1,n+1):\n",
    "    print('*'*i)\n",
    "    "
   ]
  },
  {
   "cell_type": "code",
   "execution_count": null,
   "id": "422f7de0",
   "metadata": {},
   "outputs": [],
   "source": []
  }
 ],
 "metadata": {
  "kernelspec": {
   "display_name": "Python 3 (ipykernel)",
   "language": "python",
   "name": "python3"
  },
  "language_info": {
   "codemirror_mode": {
    "name": "ipython",
    "version": 3
   },
   "file_extension": ".py",
   "mimetype": "text/x-python",
   "name": "python",
   "nbconvert_exporter": "python",
   "pygments_lexer": "ipython3",
   "version": "3.11.4"
  }
 },
 "nbformat": 4,
 "nbformat_minor": 5
}
